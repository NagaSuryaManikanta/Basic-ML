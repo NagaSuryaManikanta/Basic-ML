{
  "nbformat": 4,
  "nbformat_minor": 0,
  "metadata": {
    "colab": {
      "name": "My Python Program.ipynb",
      "provenance": [],
      "authorship_tag": "ABX9TyPcqd7RqXzWi6/CkdnCuEFk",
      "include_colab_link": true
    },
    "kernelspec": {
      "name": "python3",
      "display_name": "Python 3"
    },
    "language_info": {
      "name": "python"
    }
  },
  "cells": [
    {
      "cell_type": "markdown",
      "metadata": {
        "id": "view-in-github",
        "colab_type": "text"
      },
      "source": [
        "<a href=\"https://colab.research.google.com/github/NagaSuryaManikanta/Basic-ML/blob/main/My_Python_Program.ipynb\" target=\"_parent\"><img src=\"https://colab.research.google.com/assets/colab-badge.svg\" alt=\"Open In Colab\"/></a>"
      ]
    },
    {
      "cell_type": "markdown",
      "metadata": {
        "id": "HDLX5xtJmieo"
      },
      "source": [
        "\n",
        "1. PROGRAM ON MAX OF THREE NUMBERS\n"
      ]
    },
    {
      "cell_type": "code",
      "metadata": {
        "colab": {
          "base_uri": "https://localhost:8080/"
        },
        "id": "sgtDqZpxmYCW",
        "outputId": "18c5bb46-e21e-47ff-f918-1b18666d8bd0"
      },
      "source": [
        "a=10\n",
        "b=20\n",
        "c=30\n",
        "if(a>b and a>c):\n",
        "  print(\"max=\",a)\n",
        "elif(b>c):\n",
        "  print(\"max=\",b)\n",
        "else:\n",
        "  print(\"max=\",c)"
      ],
      "execution_count": 3,
      "outputs": [
        {
          "output_type": "stream",
          "text": [
            "max= 30\n"
          ],
          "name": "stdout"
        }
      ]
    },
    {
      "cell_type": "markdown",
      "metadata": {
        "id": "LsSRo-E-opQH"
      },
      "source": [
        "2 . PROGRAM ON SUM OF DIGITS OF A NUMBER\n",
        "\n",
        "\n",
        "\n"
      ]
    },
    {
      "cell_type": "code",
      "metadata": {
        "colab": {
          "base_uri": "https://localhost:8080/"
        },
        "id": "La2x-Gmao2aJ",
        "outputId": "d6790351-5fe4-4555-c89a-efcc16867d0a"
      },
      "source": [
        "n=123\n",
        "sum=0\n",
        "while(n!=0):\n",
        "  a=n%10\n",
        "  sum+=a\n",
        "  n=n//10\n",
        "print(\"sum=\",sum)"
      ],
      "execution_count": 6,
      "outputs": [
        {
          "output_type": "stream",
          "text": [
            "sum= 6\n"
          ],
          "name": "stdout"
        }
      ]
    },
    {
      "cell_type": "markdown",
      "metadata": {
        "id": "jxjVVk3PpR8K"
      },
      "source": [
        "3 . PROGRAM ON EVEN OR ODD"
      ]
    },
    {
      "cell_type": "code",
      "metadata": {
        "colab": {
          "base_uri": "https://localhost:8080/"
        },
        "id": "VXUIuQFSpWgj",
        "outputId": "445ccbfd-7ffa-482b-bc45-7b6f99222291"
      },
      "source": [
        "n=9\n",
        "if(n%2==0):\n",
        "  print(\"even\")\n",
        "else:\n",
        "  print(\"odd\")"
      ],
      "execution_count": 7,
      "outputs": [
        {
          "output_type": "stream",
          "text": [
            "odd\n"
          ],
          "name": "stdout"
        }
      ]
    }
  ]
}